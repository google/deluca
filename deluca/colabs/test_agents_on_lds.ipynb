{
 "cells": [
  {
   "cell_type": "code",
   "execution_count": null,
   "metadata": {
    "colab": {
     "base_uri": "https://localhost:8080/"
    },
    "executionInfo": {
     "elapsed": 1731,
     "status": "ok",
     "timestamp": 1748782658506,
     "user": {
      "displayName": "Elad Hazan",
      "userId": "16316235310463925593"
     },
     "user_tz": 240
    },
    "id": "XOcLsTo1vS5A",
    "outputId": "b09818da-de59-471e-ac03-d8339aa3f5f4"
   },
   "outputs": [],
   "source": [
    "!git clone -b fix-jax-compatability https://github.com/google/deluca.git"
   ]
  },
  {
   "cell_type": "code",
   "execution_count": null,
   "metadata": {
    "colab": {
     "base_uri": "https://localhost:8080/"
    },
    "executionInfo": {
     "elapsed": 17659,
     "status": "ok",
     "timestamp": 1748782677022,
     "user": {
      "displayName": "Elad Hazan",
      "userId": "16316235310463925593"
     },
     "user_tz": 240
    },
    "id": "eBKI9_uzKNAY",
    "outputId": "2b4e075f-36d1-49de-d682-65100536fb5c"
   },
   "outputs": [],
   "source": [
    "%cd deluca\n",
    "\n",
    "!pip install -e ."
   ]
  },
  {
   "cell_type": "markdown",
   "metadata": {
    "id": "SJ_Hx9Q28jle"
   },
   "source": [
    "This cell creates an LDS environment and plots the signal with random activations."
   ]
  },
  {
   "cell_type": "code",
   "execution_count": null,
   "metadata": {
    "colab": {
     "base_uri": "https://localhost:8080/",
     "height": 484
    },
    "executionInfo": {
     "elapsed": 13675,
     "status": "ok",
     "timestamp": 1748782690699,
     "user": {
      "displayName": "Elad Hazan",
      "userId": "16316235310463925593"
     },
     "user_tz": 240
    },
    "id": "NZgnFh7KJoCh",
    "outputId": "f78d9786-1e7e-49a9-a361-b03c76ecdb6c"
   },
   "outputs": [],
   "source": [
    "#%load_ext autoreload\n",
    "#%autoreload 2\n",
    "import jax\n",
    "import numpy as np\n",
    "import jax.numpy as jnp\n",
    "import matplotlib.pyplot as plt\n",
    "import sys\n",
    "sys.path.append(\"../../\")\n",
    "\n",
    "from deluca.core import Env\n",
    "from deluca.core import field\n",
    "from deluca.envs import _lds as lds\n",
    "\n",
    "\n",
    "\n",
    "env = lds.LDS() #LDS with random initiations and dimensions as specified\n",
    "#env = lds.LDS(2,10,3) #LDS with random initiations and dimensions as specified\n",
    "d_obs = 2\n",
    "d_action = 3\n",
    "d_hidden = 10\n",
    "obs = env.init(d_in=d_action,d_hidden=d_hidden,d_out=d_obs)\n",
    "env.show_me_the_signal(1000)\n"
   ]
  },
  {
   "cell_type": "markdown",
   "metadata": {
    "id": "1ryBUW4q8r9Y"
   },
   "source": [
    "Now I'd like to plot the signal with different activations, but instead of a build in function, i want to use agents."
   ]
  },
  {
   "cell_type": "code",
   "execution_count": null,
   "metadata": {
    "colab": {
     "base_uri": "https://localhost:8080/",
     "height": 1000
    },
    "executionInfo": {
     "elapsed": 7315,
     "status": "error",
     "timestamp": 1748785108362,
     "user": {
      "displayName": "Elad Hazan",
      "userId": "16316235310463925593"
     },
     "user_tz": 240
    },
    "id": "c5XvfPmAq7Li",
    "outputId": "7c1c9ad8-04fa-4fe5-9283-b5d6cfd49e8c"
   },
   "outputs": [],
   "source": [
    "from deluca.core import Agent\n",
    "from deluca.agents._grc import GRC\n",
    "from deluca.agents._random import SimpleRandom\n",
    "from deluca.agents._lqg import LQG\n",
    "from deluca.agents._zero import Zero\n",
    "from deluca.agents._sfc import SFC\n",
    "\n",
    "\n",
    "\n",
    "def plot_lds_with_a_given_agent(env, agent, name_of_agent, traj_length = 1000, window_size=50, key = jax.random.PRNGKey(0)):\n",
    "  obs = np.zeros(shape = (d_obs,1))\n",
    "  action = agent(obs)\n",
    "  losses = np.zeros(traj_length)\n",
    "  window_losses = np.zeros(traj_length - window_size)\n",
    "\n",
    "  for i in range(traj_length):\n",
    "    obs = env(action, key)\n",
    "    action = agent(obs)\n",
    "    losses[i] = obs[0,0] # first coordinate of the observation\n",
    "    agent.update(obs,action)\n",
    "    if i >= window_size - 1:\n",
    "      window_losses[i-window_size] = np.mean(losses[i - window_size + 1 : i + 1])\n",
    "\n",
    "  plt.plot(losses)\n",
    "  plt.xlabel('Time step (sliding window)')\n",
    "  plt.ylabel('Loss')\n",
    "  plt.title(f\"Loss of {name_of_agent} on LDS\")\n",
    "  plt.show()\n",
    "\n",
    "\n",
    "\n",
    "env = lds.LDS() #LDS with random initiations and dimensions as specified\n",
    "d_obs = 2\n",
    "d_action = 3\n",
    "d_hidden = 10\n",
    "obs = env.init(d_in=d_action,d_hidden=d_hidden,d_out=d_obs)\n",
    "\n",
    "# fig, axes = plt.subplots(2, 2, figsize=(12, 8))\n",
    "# axes = axes.flatten()\n",
    "\n",
    "obs = env.init(d_in=d_action,d_hidden=d_hidden,d_out=d_obs)\n",
    "agent = SimpleRandom(d_action)\n",
    "agent.init()\n",
    "plot_lds_with_a_given_agent(env,agent, \"Random agent\")\n",
    "\n",
    "obs = env.init(d_in=d_action,d_hidden=d_hidden,d_out=d_obs)\n",
    "agent = GRC(env.A,env.B,env.C)\n",
    "agent.init()\n",
    "plot_lds_with_a_given_agent(env,agent, \"GRC\")\n",
    "\n",
    "# obs = env.init(d_in=d_action,d_hidden=d_hidden,d_out=d_obs)\n",
    "# agent = Zero(d_action)\n",
    "# agent.init(d_action)\n",
    "# plot_lds_with_a_given_agent(env,agent, \"Zero agent\")\n",
    "\n",
    "obs = env.init(d_in=d_action,d_hidden=d_hidden,d_out=d_obs)\n",
    "agent = SFC(env.A,env.B,env.C)\n",
    "agent.init()\n",
    "plot_lds_with_a_given_agent(env,agent, \"SFC\")\n",
    "\n"
   ]
  },
  {
   "cell_type": "code",
   "execution_count": null,
   "metadata": {
    "colab": {
     "base_uri": "https://localhost:8080/",
     "height": 702
    },
    "executionInfo": {
     "elapsed": 6794,
     "status": "ok",
     "timestamp": 1748785326327,
     "user": {
      "displayName": "Elad Hazan",
      "userId": "16316235310463925593"
     },
     "user_tz": 240
    },
    "id": "3VhZKqj6nOaN",
    "outputId": "17bb5f13-54bc-45f5-da82-f0aa85a6a0ca"
   },
   "outputs": [],
   "source": [
    "# prompt: I want the same cell as above, but plot the figures side by side\n",
    "%load_ext autoreload\n",
    "%autoreload 2\n",
    "from deluca.core import Agent\n",
    "from deluca.agents._grc import GRC\n",
    "from deluca.agents._random import SimpleRandom\n",
    "from deluca.agents._lqg import LQG\n",
    "from deluca.agents._zero import Zero\n",
    "from deluca.agents._sfc import SFC\n",
    "\n",
    "import matplotlib.pyplot as plt\n",
    "import numpy as np\n",
    "\n",
    "def plot_lds_with_a_given_agent(env, agent, name_of_agent, traj_length=1000, window_size=50, ax=None):\n",
    "    obs = np.zeros(shape=(d_obs, 1))\n",
    "    action = agent(obs)\n",
    "    losses = np.zeros(traj_length)\n",
    "    window_losses = np.zeros(traj_length - window_size)\n",
    "\n",
    "    for i in range(traj_length):\n",
    "        obs = env(action)\n",
    "        action = agent(obs)\n",
    "        losses[i] = obs[0, 0]  # first coordinate of the observation\n",
    "        agent.update(obs, action)\n",
    "        if i >= window_size - 1:\n",
    "            window_losses[i - window_size] = np.mean(losses[i - window_size + 1: i + 1])\n",
    "\n",
    "    ax.plot(window_losses)\n",
    "    ax.set_xlabel('Time step (sliding window)')\n",
    "    ax.set_ylabel('Loss')\n",
    "    ax.set_title(f\"Loss of {name_of_agent} on LDS\")\n",
    "\n",
    "\n",
    "env = lds.LDS()  # LDS with random initiations and dimensions as specified\n",
    "d_obs = 2\n",
    "d_action = 3\n",
    "d_hidden = 10\n",
    "obs = env.init(d_action, d_hidden, d_obs)\n",
    "\n",
    "fig, axes = plt.subplots(2, 2, figsize=(12, 8))\n",
    "axes = axes.flatten()\n",
    "\n",
    "agent = GRC(env.A, env.B, env.C)\n",
    "agent.init()\n",
    "plot_lds_with_a_given_agent(env, agent, \"GRC\", ax=axes[0])\n",
    "\n",
    "agent = SimpleRandom(d_action)\n",
    "agent.init()\n",
    "plot_lds_with_a_given_agent(env, agent, \"Random agent\", ax=axes[1])\n",
    "\n",
    "agent = Zero(d_action)\n",
    "agent.init(d_action)\n",
    "plot_lds_with_a_given_agent(env, agent, \"Zero agent\", ax=axes[2])\n",
    "\n",
    "#agent = SFC(env.A, env.B, env.C)\n",
    "#agent.init()\n",
    "plot_lds_with_a_given_agent(env, agent, \"SFC\", ax=axes[3])\n",
    "\n",
    "plt.tight_layout()\n",
    "plt.show()"
   ]
  },
  {
   "cell_type": "code",
   "execution_count": null,
   "metadata": {
    "id": "xQIAC7kzuDsk"
   },
   "outputs": [],
   "source": []
  },
  {
   "cell_type": "code",
   "execution_count": null,
   "metadata": {},
   "outputs": [],
   "source": []
  }
 ],
 "metadata": {
  "colab": {
   "provenance": [
    {
     "file_id": "1ZArDMR7PAiWBecPgHCikbKXN_V7j7SJ2",
     "timestamp": 1748725042432
    }
   ]
  },
  "kernelspec": {
   "display_name": "gymnax",
   "language": "python",
   "name": "python3"
  },
  "language_info": {
   "codemirror_mode": {
    "name": "ipython",
    "version": 3
   },
   "file_extension": ".py",
   "mimetype": "text/x-python",
   "name": "python",
   "nbconvert_exporter": "python",
   "pygments_lexer": "ipython3",
   "version": "3.10.14"
  }
 },
 "nbformat": 4,
 "nbformat_minor": 0
}
