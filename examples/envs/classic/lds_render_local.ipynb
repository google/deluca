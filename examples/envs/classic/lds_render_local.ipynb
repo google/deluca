{
 "cells": [
  {
   "cell_type": "code",
   "execution_count": 5,
   "metadata": {},
   "outputs": [],
   "source": [
    "%load_ext autoreload\n",
    "%autoreload 2"
   ]
  },
  {
   "cell_type": "code",
   "execution_count": 17,
   "metadata": {
    "collapsed": true
   },
   "outputs": [
    {
     "name": "stdout",
     "output_type": "stream",
     "text": [
      "Requirement already satisfied: deluca in /Users/alexjyu/miniconda3/envs/cenv/lib/python3.7/site-packages (0.0.4)\n",
      "Requirement already satisfied: scipy in /Users/alexjyu/miniconda3/envs/cenv/lib/python3.7/site-packages (from deluca) (1.2.1)\n",
      "Requirement already satisfied: numpy in /Users/alexjyu/miniconda3/envs/cenv/lib/python3.7/site-packages (from deluca) (1.18.5)\n",
      "Requirement already satisfied: gym in /Users/alexjyu/miniconda3/envs/cenv/lib/python3.7/site-packages (from deluca) (0.13.0)\n",
      "Requirement already satisfied: jax in /Users/alexjyu/miniconda3/envs/cenv/lib/python3.7/site-packages (from deluca) (0.2.6)\n",
      "Requirement already satisfied: jaxlib in /Users/alexjyu/miniconda3/envs/cenv/lib/python3.7/site-packages (from deluca) (0.1.57)\n",
      "Requirement already satisfied: pyglet>=1.2.0 in /Users/alexjyu/miniconda3/envs/cenv/lib/python3.7/site-packages (from gym->deluca) (1.3.2)\n",
      "Requirement already satisfied: cloudpickle~=1.2.0 in /Users/alexjyu/miniconda3/envs/cenv/lib/python3.7/site-packages (from gym->deluca) (1.2.1)\n",
      "Requirement already satisfied: six in /Users/alexjyu/miniconda3/envs/cenv/lib/python3.7/site-packages (from gym->deluca) (1.12.0)\n",
      "Requirement already satisfied: absl-py in /Users/alexjyu/miniconda3/envs/cenv/lib/python3.7/site-packages (from jax->deluca) (0.7.1)\n",
      "Requirement already satisfied: opt-einsum in /Users/alexjyu/miniconda3/envs/cenv/lib/python3.7/site-packages (from jax->deluca) (2.3.2)\n",
      "Requirement already satisfied: flatbuffers in /Users/alexjyu/miniconda3/envs/cenv/lib/python3.7/site-packages (from jaxlib->deluca) (1.12)\n",
      "Requirement already satisfied: future in /Users/alexjyu/miniconda3/envs/cenv/lib/python3.7/site-packages (from pyglet>=1.2.0->gym->deluca) (0.17.1)\n",
      "\u001b[33mWARNING: You are using pip version 20.2.2; however, version 21.0.1 is available.\n",
      "You should consider upgrading via the '/Users/alexjyu/miniconda3/envs/cenv/bin/python -m pip install --upgrade pip' command.\u001b[0m\n",
      "Requirement already satisfied: jax==0.2.6 in /Users/alexjyu/miniconda3/envs/cenv/lib/python3.7/site-packages (0.2.6)\n",
      "Requirement already satisfied: absl-py in /Users/alexjyu/miniconda3/envs/cenv/lib/python3.7/site-packages (from jax==0.2.6) (0.7.1)\n",
      "Requirement already satisfied: opt-einsum in /Users/alexjyu/miniconda3/envs/cenv/lib/python3.7/site-packages (from jax==0.2.6) (2.3.2)\n",
      "Requirement already satisfied: numpy>=1.12 in /Users/alexjyu/miniconda3/envs/cenv/lib/python3.7/site-packages (from jax==0.2.6) (1.18.5)\n",
      "Requirement already satisfied: six in /Users/alexjyu/miniconda3/envs/cenv/lib/python3.7/site-packages (from absl-py->jax==0.2.6) (1.12.0)\n",
      "\u001b[33mWARNING: You are using pip version 20.2.2; however, version 21.0.1 is available.\n",
      "You should consider upgrading via the '/Users/alexjyu/miniconda3/envs/cenv/bin/python -m pip install --upgrade pip' command.\u001b[0m\n",
      "Requirement already satisfied: jaxlib==0.1.57 in /Users/alexjyu/miniconda3/envs/cenv/lib/python3.7/site-packages (0.1.57)\n",
      "Requirement already satisfied: numpy>=1.12 in /Users/alexjyu/miniconda3/envs/cenv/lib/python3.7/site-packages (from jaxlib==0.1.57) (1.18.5)\n",
      "Requirement already satisfied: flatbuffers in /Users/alexjyu/miniconda3/envs/cenv/lib/python3.7/site-packages (from jaxlib==0.1.57) (1.12)\n",
      "Requirement already satisfied: scipy in /Users/alexjyu/miniconda3/envs/cenv/lib/python3.7/site-packages (from jaxlib==0.1.57) (1.2.1)\n",
      "Requirement already satisfied: absl-py in /Users/alexjyu/miniconda3/envs/cenv/lib/python3.7/site-packages (from jaxlib==0.1.57) (0.7.1)\n",
      "Requirement already satisfied: six in /Users/alexjyu/miniconda3/envs/cenv/lib/python3.7/site-packages (from absl-py->jaxlib==0.1.57) (1.12.0)\n",
      "\u001b[33mWARNING: You are using pip version 20.2.2; however, version 21.0.1 is available.\n",
      "You should consider upgrading via the '/Users/alexjyu/miniconda3/envs/cenv/bin/python -m pip install --upgrade pip' command.\u001b[0m\n"
     ]
    }
   ],
   "source": [
    "'''\n",
    "1. git clone deluca https://github.com/google/deluca.git\n",
    "2. cd deluca\n",
    "3. pip install -e .[dev]\n",
    "4. pip install box2D\n",
    "5. pip install termcolor\n",
    "6. pip install pyglet==1.5.11\n",
    "'''"
   ]
  },
  {
   "cell_type": "code",
   "execution_count": 14,
   "metadata": {},
   "outputs": [],
   "source": [
    "import deluca\n",
    "import gym\n",
    "import jax\n",
    "import jax.numpy as jnp\n",
    "from deluca.envs import LDS\n",
    "from deluca.agents import GPC\n",
    "from tqdm import tqdm"
   ]
  },
  {
   "cell_type": "code",
   "execution_count": 15,
   "metadata": {},
   "outputs": [],
   "source": [
    "import matplotlib.pyplot as plt\n",
    "%matplotlib inline\n",
    "from IPython import display\n",
    "import time \n",
    "\n",
    "def show_state(env, step=0, info=\"\"):\n",
    "    plt.figure(3)\n",
    "    plt.clf()\n",
    "    plt.imshow(env.render(mode='rgb_array'))\n",
    "    # plt.title(\"%s | Step: %d %s\" % (env._spec.id,step, info))\n",
    "    plt.title(\"%s | Step: %d %s\" % (type(env).__name__,step, info))\n",
    "    plt.axis('off')\n",
    "\n",
    "    display.clear_output(wait=True)\n",
    "    # time.sleep(0.1)\n",
    "    display.display(plt.gcf())\n",
    "\n",
    "def smooth_show_state(env, step=0, prev_state=None, info=\"\"):\n",
    "    new_state = env.state\n",
    "    dist = ((new_state[1] - prev_state[1])**2 + (new_state[0] - prev_state[0])**2) ** 0.5\n",
    "    num_steps = max(1, int(dist/0.1)) # enforce num_steps >= 1\n",
    "    for i in range(1, num_steps + 1):\n",
    "        intermediate_state = prev_state * float(1 - i/(num_steps)) + new_state * float(i/(num_steps))\n",
    "        env.state = intermediate_state\n",
    "        plt.figure(3)\n",
    "        plt.clf()\n",
    "        plt.imshow(env.render(mode='rgb_array'))\n",
    "        # plt.title(\"%s | Step: %d %s\" % (env._spec.id,step, info))\n",
    "        plt.title(\"%s | Step: %d %s\" % (type(env).__name__,step, info))\n",
    "        plt.axis('off')\n",
    "\n",
    "        display.clear_output(wait=True)\n",
    "        display.display(plt.gcf())\n",
    "    # time.sleep(10.0)\n",
    "    \n",
    "def loop(context, i):\n",
    "    env, controller = context\n",
    "    A, B, state = env.A, env.B, env.state\n",
    "    try:\n",
    "        action = controller(state, A, B)\n",
    "    except:\n",
    "        action = controller(state)\n",
    "    prev_state = env.state\n",
    "    env.step(action)\n",
    "    smooth_show_state(env, step=i, prev_state=prev_state)\n",
    "    # state = A @ state + B @ action + np.random.normal(0, 0.2, size=(n,1)) # gaussian noise\n",
    "\n",
    "    # if(i % T//2 == 0): # switch system\n",
    "    #     A,B = jnp.array([[1.,1.5], [0,1.]]), jnp.array([[0],[0.9]])\n",
    "    error = jnp.linalg.norm(state)+jnp.linalg.norm(action)\n",
    "    return (env, controller), error\n",
    "\n",
    "def get_errs(T, controller, A, B):\n",
    "    # state = jnp.zeros((n, 1))\n",
    "    env = LDS(state_size=3, action_size=1, A=A, B=B)\n",
    "    errs = [0.0]\n",
    "    \n",
    "    for i in tqdm(range(1, T)):\n",
    "        (env, controller), error = loop((env, controller), i)\n",
    "        errs.append(float(error))\n",
    "    \n",
    "    return errs"
   ]
  },
  {
   "cell_type": "code",
   "execution_count": 16,
   "metadata": {},
   "outputs": [
    {
     "data": {
      "image/png": "[encoded data removed]",
      "text/plain": [
       "<Figure size 432x288 with 1 Axes>"
      ]
     },
     "metadata": {},
     "output_type": "display_data"
    },
    {
     "name": "stderr",
     "output_type": "stream",
     "text": [
      "100%|██████████| 9/9 [00:09<00:00,  1.08it/s]\n"
     ]
    },
    {
     "name": "stdout",
     "output_type": "stream",
     "text": [
      "GPC incurs  0.6859789577317651  loss under gaussian iid noise\n"
     ]
    },
    {
     "data": {
      "image/png": "[encoded data removed]",
      "text/plain": [
       "<Figure size 432x288 with 1 Axes>"
      ]
     },
     "metadata": {
      "needs_background": "light"
     },
     "output_type": "display_data"
    }
   ],
   "source": [
    "# for loop version\n",
    "T = 10\n",
    "A,B = jnp.array([[1.,.5,1.], [0,1.,0.], [0.,0.1,0.]]), jnp.array([[0],[1.2],[0.]])\n",
    "gpc = GPC(A, B)\n",
    "gpc_errs = get_errs(T, gpc, A, B)\n",
    "# print(gpc_errs)\n",
    "print(\"GPC incurs \", jnp.mean(jnp.asarray(gpc_errs)), \" loss under gaussian iid noise\")"
   ]
  }
 ],
 "metadata": {
  "kernelspec": {
   "display_name": "Python 3",
   "language": "python",
   "name": "python3"
  },
  "language_info": {
   "codemirror_mode": {
    "name": "ipython",
    "version": 3
   },
   "file_extension": ".py",
   "mimetype": "text/x-python",
   "name": "python",
   "nbconvert_exporter": "python",
   "pygments_lexer": "ipython3",
   "version": "3.7.5"
  }
 },
 "nbformat": 4,
 "nbformat_minor": 4
}
